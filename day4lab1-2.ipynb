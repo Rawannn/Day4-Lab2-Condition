{
 "cells": [
  {
   "cell_type": "code",
   "execution_count": 20,
   "id": "81d01a2a",
   "metadata": {},
   "outputs": [
    {
     "name": "stdout",
     "output_type": "stream",
     "text": [
      "I recommended it, It is good\n"
     ]
    }
   ],
   "source": [
    "movie = 'Stocholm'\n",
    "rate = 3\n",
    "score  = 72.65\n",
    "\n",
    "if(rate >= 4 and score == 80):\n",
    "    print(\"Highly recommended.\")\n",
    "elif  (rate >= 3 and score > 70):\n",
    "    print(\"I recommended it, It is good\")\n",
    "elif (rate <= 2 and score > 60):\n",
    "    print(\"You should check it out!\")\n",
    "elif(rate <= 2 and score < 50):\n",
    "    print(\"Don't watch it, It is a waste of time\")"
   ]
  },
  {
   "cell_type": "code",
   "execution_count": 24,
   "id": "451448fd",
   "metadata": {},
   "outputs": [
    {
     "name": "stdout",
     "output_type": "stream",
     "text": [
      "winter\n",
      "2\n",
      "3.3\n",
      "1\n",
      "1\n",
      "3\n",
      "6\n",
      "9\n"
     ]
    }
   ],
   "source": [
    "season = \"winter\"\n",
    "x = 2\n",
    "y = 3.3\n",
    "e = q = 1\n",
    "o , t ,r = 3, 6, 9\n",
    "print(season)\n",
    "print(x)\n",
    "print(y)\n",
    "print(e)\n",
    "print(q)\n",
    "print(o)\n",
    "print(t)\n",
    "print(r)"
   ]
  },
  {
   "cell_type": "code",
   "execution_count": null,
   "id": "0c0f4640",
   "metadata": {},
   "outputs": [],
   "source": []
  }
 ],
 "metadata": {
  "kernelspec": {
   "display_name": "Python 3 (ipykernel)",
   "language": "python",
   "name": "python3"
  },
  "language_info": {
   "codemirror_mode": {
    "name": "ipython",
    "version": 3
   },
   "file_extension": ".py",
   "mimetype": "text/x-python",
   "name": "python",
   "nbconvert_exporter": "python",
   "pygments_lexer": "ipython3",
   "version": "3.9.13"
  }
 },
 "nbformat": 4,
 "nbformat_minor": 5
}
